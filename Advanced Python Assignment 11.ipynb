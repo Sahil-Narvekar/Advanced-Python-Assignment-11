{
 "cells": [
  {
   "cell_type": "code",
   "execution_count": null,
   "metadata": {},
   "outputs": [],
   "source": [
    "Q1. What is the concept of a metaclass?"
   ]
  },
  {
   "cell_type": "code",
   "execution_count": null,
   "metadata": {},
   "outputs": [],
   "source": [
    "Whenever we call class to create a class, there is a metaclass that does the magic of creating the class\n",
    "behind the scenes. We've already seen type do this in practice above. It is similar to str that creates \n",
    "strings and int that creates integers. In Python, the ___class__attribute enables us to check the type of\n",
    "the current instance. Let's create a string below and check its type."
   ]
  },
  {
   "cell_type": "code",
   "execution_count": 95,
   "metadata": {},
   "outputs": [
    {
     "data": {
      "text/plain": [
       "str"
      ]
     },
     "execution_count": 95,
     "metadata": {},
     "output_type": "execute_result"
    }
   ],
   "source": [
    "article = 'metaclasses'\n",
    "article.__class__"
   ]
  },
  {
   "cell_type": "code",
   "execution_count": null,
   "metadata": {},
   "outputs": [],
   "source": [
    "In Python, we can customize the class creation process by passing the metaclass keyword in the class\n",
    "definition. This can also be done by inheriting a class that has already passed in this keyword."
   ]
  },
  {
   "cell_type": "code",
   "execution_count": 102,
   "metadata": {},
   "outputs": [
    {
     "name": "stdout",
     "output_type": "stream",
     "text": [
      "<class 'type'>   <class 'type'>   <class '__main__.newclass'>   <class '__main__.newclass'>\n"
     ]
    }
   ],
   "source": [
    "class class1:\n",
    "    pass\n",
    "class newclass(type):\n",
    "    pass\n",
    "class oneclass(metaclass=newclass):\n",
    "    pass\n",
    "class newone(oneclass):\n",
    "    pass\n",
    "print(type(class1),' ',type(newclass),' ', type(oneclass),' ',type(newone))"
   ]
  },
  {
   "cell_type": "code",
   "execution_count": null,
   "metadata": {},
   "outputs": [],
   "source": [
    "We can see below that the type of class1 class is type and that the type of newclass and oneclass is MyMeta\n",
    "When defining a class and no metaclass is defined the default type metaclass will be used. If a metaclass \n",
    "is given and it is not an instance of type(), then it is used directly as the metaclass."
   ]
  },
  {
   "cell_type": "code",
   "execution_count": null,
   "metadata": {},
   "outputs": [],
   "source": [
    "type is a metaclass, of which classes are instances. Just as an ordinary object is an instance of a class,\n",
    "any class in Python 3, is an instance of the type metaclass."
   ]
  },
  {
   "cell_type": "code",
   "execution_count": null,
   "metadata": {},
   "outputs": [],
   "source": [
    "Q2. What is the best way to declare a class's metaclass?"
   ]
  },
  {
   "cell_type": "code",
   "execution_count": 100,
   "metadata": {},
   "outputs": [
    {
     "data": {
      "text/plain": [
       "(__main__.Foo, type)"
      ]
     },
     "execution_count": 100,
     "metadata": {},
     "output_type": "execute_result"
    }
   ],
   "source": [
    "class Foo:\n",
    "       pass\n",
    "x = Foo()\n",
    "type(x),type(Foo)"
   ]
  },
  {
   "cell_type": "code",
   "execution_count": null,
   "metadata": {},
   "outputs": [],
   "source": [
    "The type of x is class Foo. But the type of Foo, the class itself, is type. In general, the type of any \n",
    "type is a metaclass, of which classes are instances. Just as an ordinary object is an instance of class,\n",
    "anynew-style class is type.class in Python 3, is an instance of the type metaclass.This command can also \n",
    "be used to get type of object."
   ]
  },
  {
   "cell_type": "code",
   "execution_count": 102,
   "metadata": {},
   "outputs": [
    {
     "name": "stdout",
     "output_type": "stream",
     "text": [
      "<class 'type'>   <class 'type'>   <class '__main__.newclass'>   <class '__main__.newclass'>\n"
     ]
    }
   ],
   "source": [
    "class class1:\n",
    "    pass\n",
    "class newclass(type):\n",
    "    pass\n",
    "class oneclass(metaclass=newclass):\n",
    "    pass\n",
    "class newone(oneclass):\n",
    "    pass\n",
    "print(type(class1),' ',type(newclass),' ', type(oneclass),' ',type(newone))"
   ]
  },
  {
   "cell_type": "code",
   "execution_count": null,
   "metadata": {},
   "outputs": [],
   "source": [
    "In Python, we can customize the class creation process by passing the metaclass keyword in the class\n",
    "definition. This can also be done by inheriting a class that has already passed in this keyword."
   ]
  },
  {
   "cell_type": "code",
   "execution_count": null,
   "metadata": {},
   "outputs": [],
   "source": []
  }
 ],
 "metadata": {
  "kernelspec": {
   "display_name": "Python 3",
   "language": "python",
   "name": "python3"
  },
  "language_info": {
   "codemirror_mode": {
    "name": "ipython",
    "version": 3
   },
   "file_extension": ".py",
   "mimetype": "text/x-python",
   "name": "python",
   "nbconvert_exporter": "python",
   "pygments_lexer": "ipython3",
   "version": "3.8.3"
  }
 },
 "nbformat": 4,
 "nbformat_minor": 4
}
